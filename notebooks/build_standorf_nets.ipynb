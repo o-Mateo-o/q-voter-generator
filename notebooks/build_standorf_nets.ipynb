{
 "cells": [
  {
   "cell_type": "markdown",
   "metadata": {},
   "source": [
    "# Import"
   ]
  },
  {
   "cell_type": "code",
   "execution_count": 1,
   "metadata": {
    "scrolled": true
   },
   "outputs": [],
   "source": [
    "using JLD2\n",
    "using Graphs\n",
    "using CSV\n",
    "using DataFrames\n",
    "using Plots\n",
    "using GraphRecipes"
   ]
  },
  {
   "cell_type": "markdown",
   "metadata": {},
   "source": [
    "# Functions"
   ]
  },
  {
   "cell_type": "code",
   "execution_count": 2,
   "metadata": {
    "scrolled": true
   },
   "outputs": [
    {
     "data": {
      "text/plain": [
       "build_net_dict (generic function with 1 method)"
      ]
     },
     "execution_count": 2,
     "metadata": {},
     "output_type": "execute_result"
    }
   ],
   "source": [
    "function main_component(g::SimpleGraph)::SimpleGraph\n",
    "    c = connected_components(g)\n",
    "    _, i = findmax(length.(c))\n",
    "    g[c[i]]\n",
    "end\n",
    "\n",
    "\n",
    "function build_net(ix::Int64, dir_path::String)::Tuple\n",
    "    df = CSV.read(dir_path*string(ix)*\".edges\", DataFrame)\n",
    "    N = maximum(maximum(eachrow(df)))\n",
    "    g = SimpleGraph(N)\n",
    "    for row in eachrow(df)\n",
    "        add_edge!(g, row[1], row[2])\n",
    "    end\n",
    "    connected_g = main_component(g)\n",
    "    return nv(connected_g), connected_g\n",
    "end\n",
    "\n",
    "\n",
    "build_net_dict(ixs:: Array, dir_path::String) = Dict([build_net(ix, dir_path) for ix in ixs])"
   ]
  },
  {
   "cell_type": "markdown",
   "metadata": {},
   "source": [
    "# Input data"
   ]
  },
  {
   "cell_type": "code",
   "execution_count": 3,
   "metadata": {},
   "outputs": [
    {
     "data": {
      "text/plain": [
       "\"C:/Users/cp/Downloads/facebook/\""
      ]
     },
     "execution_count": 3,
     "metadata": {},
     "output_type": "execute_result"
    }
   ],
   "source": [
    "file_ixs = [0, 107, 348, 414, 686, 698, 1684, 1912, 3437, 3980]\n",
    "input_dir_path = \"C:/Users/cp/Downloads/facebook/\""
   ]
  },
  {
   "cell_type": "markdown",
   "metadata": {},
   "source": [
    "# Execution"
   ]
  },
  {
   "cell_type": "code",
   "execution_count": 4,
   "metadata": {},
   "outputs": [
    {
     "data": {
      "text/plain": [
       "Dict{Int64, SimpleGraph{Int64}} with 10 entries:\n",
       "  224  => SimpleGraph{Int64}(3192, [[2, 68, 82], [1, 68, 81, 117, 202], [6, 18,…\n",
       "  775  => SimpleGraph{Int64}(14006, [[2, 3, 166, 189, 235, 353, 516, 630], [1, …\n",
       "  324  => SimpleGraph{Int64}(2514, [[40, 45, 46, 65, 79, 82, 108, 115, 122, 181…\n",
       "  168  => SimpleGraph{Int64}(1656, [[2, 10, 16, 31, 41, 43, 52, 60, 72, 77  …  …\n",
       "  44   => SimpleGraph{Int64}(138, [[8, 25, 38], [12, 15, 16, 24, 29, 30, 33], […\n",
       "  1033 => SimpleGraph{Int64}(26747, [[2, 807], [1, 37, 299, 321, 424, 513, 611,…\n",
       "  744  => SimpleGraph{Int64}(30023, [[4, 18, 24, 31, 37, 43, 47, 63, 64, 67  … …\n",
       "  532  => SimpleGraph{Int64}(4812, [[20, 53, 286, 416, 515], [3, 4], [2, 4, 22,…\n",
       "  148  => SimpleGraph{Int64}(1692, [[3, 4, 19], [4, 5, 9, 19, 26, 28, 45, 54, 7…\n",
       "  40   => SimpleGraph{Int64}(220, [[3, 4, 5, 7, 8, 9, 10, 11, 14, 17, 20, 21, 2…"
      ]
     },
     "execution_count": 4,
     "metadata": {},
     "output_type": "execute_result"
    }
   ],
   "source": [
    "net_dict = build_net_dict(file_ixs, input_dir_path)"
   ]
  },
  {
   "cell_type": "code",
   "execution_count": 5,
   "metadata": {},
   "outputs": [],
   "source": [
    "save_object(\"net_images.jld\", net_dict)"
   ]
  },
  {
   "cell_type": "markdown",
   "metadata": {},
   "source": [
    "# Additional info"
   ]
  },
  {
   "cell_type": "markdown",
   "metadata": {},
   "source": [
    "### List of the possible sizes"
   ]
  },
  {
   "cell_type": "code",
   "execution_count": 6,
   "metadata": {},
   "outputs": [
    {
     "data": {
      "text/plain": [
       "\"40, 44, 148, 168, 224, 324, 532, 744, 775, 1033\""
      ]
     },
     "execution_count": 6,
     "metadata": {},
     "output_type": "execute_result"
    }
   ],
   "source": [
    "join(sort(collect(keys(net_dict))), \", \")"
   ]
  }
 ],
 "metadata": {
  "kernelspec": {
   "display_name": "Julia 1.6.1",
   "language": "julia",
   "name": "julia-1.6"
  },
  "language_info": {
   "file_extension": ".jl",
   "mimetype": "application/julia",
   "name": "julia",
   "version": "1.6.1"
  }
 },
 "nbformat": 4,
 "nbformat_minor": 4
}
